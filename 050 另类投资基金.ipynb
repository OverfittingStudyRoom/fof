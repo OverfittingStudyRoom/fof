{
 "cells": [
  {
   "cell_type": "code",
   "execution_count": 8,
   "id": "76b46662-651d-4bcd-b554-f116051cf297",
   "metadata": {},
   "outputs": [],
   "source": [
    "import datetime as dt\n",
    "from utility import (\n",
    "    fd_alive_funds,\n",
    "    fd_basicinfo,\n",
    "    fd_typeclass,\n",
    "    nearest_report_date\n",
    ")\n",
    "import pandas as pd"
   ]
  },
  {
   "cell_type": "code",
   "execution_count": 9,
   "id": "f5d4b805-d5a3-4b4c-8429-7044e9bef831",
   "metadata": {},
   "outputs": [],
   "source": [
    "# 获取回溯的报告日\n",
    "\n",
    "today = dt.datetime.today().strftime(\"%Y%m%d\")"
   ]
  },
  {
   "cell_type": "code",
   "execution_count": 10,
   "id": "72d3f785-aee7-44d9-a393-3abbdb4d60a4",
   "metadata": {},
   "outputs": [],
   "source": [
    "# 获取所有目标基金（清算结束日期晚于当前日）\n",
    "\n",
    "security_ids = fd_alive_funds(today)"
   ]
  },
  {
   "cell_type": "code",
   "execution_count": 11,
   "id": "f5f5cc7d-c2d4-4c7f-b8a9-dd133407f9c6",
   "metadata": {},
   "outputs": [],
   "source": [
    "basic_info = fd_basicinfo(security_ids)\n",
    "type_info = fd_typeclass(security_ids)"
   ]
  },
  {
   "cell_type": "code",
   "execution_count": 12,
   "id": "52607b95-9d62-4f68-8256-984827dd0bea",
   "metadata": {},
   "outputs": [],
   "source": [
    "df = pd.merge(type_info, basic_info, on=\"SECURITYID\")"
   ]
  },
  {
   "cell_type": "code",
   "execution_count": 13,
   "id": "60fe66ee-a8d3-4a33-8c5a-555f68d9758c",
   "metadata": {},
   "outputs": [],
   "source": [
    "# 分类\n",
    "df.loc[(df[\"INVESTSTYLE\"] == \"商品型\") & (df[\"L1CODE\"] != 6), \"另类投资型（子类）\"] = \"商品型基金\"\n",
    "df.loc[(df[\"L3NAME\"] == \"对冲策略基金\"), \"另类投资型（子类）\"] = \"量化对冲基金\""
   ]
  },
  {
   "cell_type": "code",
   "execution_count": 14,
   "id": "1bb62bc7-2515-415a-8eec-087d2d1787b6",
   "metadata": {},
   "outputs": [
    {
     "data": {
      "text/html": [
       "<div>\n",
       "<style scoped>\n",
       "    .dataframe tbody tr th:only-of-type {\n",
       "        vertical-align: middle;\n",
       "    }\n",
       "\n",
       "    .dataframe tbody tr th {\n",
       "        vertical-align: top;\n",
       "    }\n",
       "\n",
       "    .dataframe thead th {\n",
       "        text-align: right;\n",
       "    }\n",
       "</style>\n",
       "<table border=\"1\" class=\"dataframe\">\n",
       "  <thead>\n",
       "    <tr style=\"text-align: right;\">\n",
       "      <th></th>\n",
       "      <th>SECURITYID</th>\n",
       "      <th>L1CODE</th>\n",
       "      <th>L1NAME</th>\n",
       "      <th>L2CODE</th>\n",
       "      <th>L2NAME</th>\n",
       "      <th>L3CODE</th>\n",
       "      <th>L3NAME</th>\n",
       "      <th>FDNAME</th>\n",
       "      <th>SNAMECOMP</th>\n",
       "      <th>FSYMBOL</th>\n",
       "      <th>FDNATURE</th>\n",
       "      <th>INVESTSTYLE</th>\n",
       "    </tr>\n",
       "    <tr>\n",
       "      <th>另类投资型（子类）</th>\n",
       "      <th></th>\n",
       "      <th></th>\n",
       "      <th></th>\n",
       "      <th></th>\n",
       "      <th></th>\n",
       "      <th></th>\n",
       "      <th></th>\n",
       "      <th></th>\n",
       "      <th></th>\n",
       "      <th></th>\n",
       "      <th></th>\n",
       "      <th></th>\n",
       "    </tr>\n",
       "  </thead>\n",
       "  <tbody>\n",
       "    <tr>\n",
       "      <th>商品型基金</th>\n",
       "      <td>15</td>\n",
       "      <td>15</td>\n",
       "      <td>15</td>\n",
       "      <td>15</td>\n",
       "      <td>15</td>\n",
       "      <td>15</td>\n",
       "      <td>15</td>\n",
       "      <td>15</td>\n",
       "      <td>13</td>\n",
       "      <td>15</td>\n",
       "      <td>15</td>\n",
       "      <td>15</td>\n",
       "    </tr>\n",
       "    <tr>\n",
       "      <th>量化对冲基金</th>\n",
       "      <td>17</td>\n",
       "      <td>17</td>\n",
       "      <td>17</td>\n",
       "      <td>17</td>\n",
       "      <td>17</td>\n",
       "      <td>17</td>\n",
       "      <td>17</td>\n",
       "      <td>17</td>\n",
       "      <td>10</td>\n",
       "      <td>17</td>\n",
       "      <td>17</td>\n",
       "      <td>17</td>\n",
       "    </tr>\n",
       "  </tbody>\n",
       "</table>\n",
       "</div>"
      ],
      "text/plain": [
       "           SECURITYID  L1CODE  L1NAME  L2CODE  L2NAME  L3CODE  L3NAME  FDNAME  \\\n",
       "另类投资型（子类）                                                                       \n",
       "商品型基金              15      15      15      15      15      15      15      15   \n",
       "量化对冲基金             17      17      17      17      17      17      17      17   \n",
       "\n",
       "           SNAMECOMP  FSYMBOL  FDNATURE  INVESTSTYLE  \n",
       "另类投资型（子类）                                             \n",
       "商品型基金             13       15        15           15  \n",
       "量化对冲基金            10       17        17           17  "
      ]
     },
     "execution_count": 14,
     "metadata": {},
     "output_type": "execute_result"
    }
   ],
   "source": [
    "df.groupby(\"另类投资型（子类）\").count()"
   ]
  },
  {
   "cell_type": "code",
   "execution_count": null,
   "id": "3ba8793e-d648-4dc0-99ef-731a8c97f50e",
   "metadata": {},
   "outputs": [],
   "source": []
  }
 ],
 "metadata": {
  "kernelspec": {
   "display_name": "Python [conda env:root] *",
   "language": "python",
   "name": "conda-root-py"
  },
  "language_info": {
   "codemirror_mode": {
    "name": "ipython",
    "version": 3
   },
   "file_extension": ".py",
   "mimetype": "text/x-python",
   "name": "python",
   "nbconvert_exporter": "python",
   "pygments_lexer": "ipython3",
   "version": "3.8.12"
  }
 },
 "nbformat": 4,
 "nbformat_minor": 5
}
