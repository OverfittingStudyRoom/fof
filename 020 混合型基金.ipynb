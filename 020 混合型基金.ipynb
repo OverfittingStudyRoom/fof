{
 "cells": [
  {
   "cell_type": "code",
   "execution_count": 10,
   "id": "25a5db3d-4c9d-46e8-bd5a-88cca84280ba",
   "metadata": {},
   "outputs": [],
   "source": [
    "import datetime as dt\n",
    "from utility import (\n",
    "    read_sql,\n",
    "    fd_basicinfo,\n",
    "    fd_typeclass,\n",
    "    fd_hshkiport,\n",
    "    fd_assetportfolio,\n",
    "    nearest_report_date\n",
    ")\n",
    "import pandas as pd"
   ]
  },
  {
   "cell_type": "code",
   "execution_count": 11,
   "id": "329e6a8c-4e60-43d7-8314-63cee4f9196a",
   "metadata": {},
   "outputs": [],
   "source": [
    "# 获取回溯的报告日\n",
    "\n",
    "today = dt.datetime.today()\n",
    "date_3yrs_ago = today.replace(year=today.year - 3)\n",
    "report_dates_begin = nearest_report_date(date_3yrs_ago.strftime(\"%Y%m%d\"))\n",
    "current_date = today.strftime(\"%Y%m%d\")"
   ]
  },
  {
   "cell_type": "code",
   "execution_count": 12,
   "id": "74246462-2676-4817-8c89-3a024ed8e412",
   "metadata": {},
   "outputs": [],
   "source": [
    "# 获取所有目标混合型基金（清算结束日期晚于当前日）\n",
    "\n",
    "security_ids = read_sql(f\"\"\"\n",
    "select SECURITYID from TQ_FD_TYPECLASS \n",
    "WHERE\n",
    "    ISVALID = 1 AND\n",
    "    L1CODE = 2 AND\n",
    "    (ENDDATE>='{report_dates_begin}' or ENDDATE = '19000101') \n",
    "ORDER BY SECURITYID;\n",
    "\"\"\")[\"SECURITYID\"].unique().tolist()"
   ]
  },
  {
   "cell_type": "code",
   "execution_count": 13,
   "id": "61270089-05d5-4396-829e-651118231b60",
   "metadata": {},
   "outputs": [],
   "source": [
    "# 获取相关组合情况\n",
    "\n",
    "basic_info = fd_basicinfo(security_ids, current_date)\n",
    "type_info = fd_typeclass(security_ids, current_date)\n",
    "hkport_info = fd_hshkiport(security_ids, report_dates_begin)\n",
    "hkport_info = hkport_info[hkport_info.INDUSTRYNAME == \"合计\"].groupby([\"SECURITYID\"], as_index=False)[[\"ACCNETMKTCAP\"]].mean()\n",
    "asset_port = fd_assetportfolio(security_ids, report_dates_begin).groupby(\"SECURITYID\", as_index=False)[[\"EQUITYINVERTO\"]].mean()"
   ]
  },
  {
   "cell_type": "code",
   "execution_count": 14,
   "id": "3968c35a-fa98-479b-a9e2-9cbeec4def1a",
   "metadata": {},
   "outputs": [],
   "source": [
    "df = pd.merge(basic_info, type_info, on=\"SECURITYID\")\n",
    "df = pd.merge(df, asset_port, on=\"SECURITYID\", how=\"left\")\n",
    "df = pd.merge(df, hkport_info, on=\"SECURITYID\", how=\"left\")\n",
    "df[\"ACCNETMKTCAP\"] = df[\"ACCNETMKTCAP\"].fillna(0)"
   ]
  },
  {
   "cell_type": "code",
   "execution_count": 18,
   "id": "73250ba3-83f4-41fe-8e61-2869f7db8662",
   "metadata": {},
   "outputs": [],
   "source": [
    "# 分类\n",
    "df.loc[df[\"EQUITYINVERTO\"] >= 70, \"混合型（子类）\"] = \"高权益仓位混合型基金\"\n",
    "df.loc[((df[\"EQUITYINVERTO\"] >= 50) & (df[\"EQUITYINVERTO\"] < 70)), \"混合型（子类）\"] = \"中高权益仓位混合型基金\"\n",
    "df.loc[((df[\"EQUITYINVERTO\"] >= 30) & (df[\"EQUITYINVERTO\"] < 50)), \"混合型（子类）\"] = \"中权益仓位混合型基金\"\n",
    "df.loc[((df[\"EQUITYINVERTO\"] >= 0) & (df[\"EQUITYINVERTO\"] < 30)), \"混合型（子类）\"] = \"低权益仓位混合型基金\"\n",
    "df.loc[(df[\"ACCNETMKTCAP\"] / df[\"EQUITYINVERTO\"] > 0.5), \"混合型（子类）\"] = \"港股通混合型基金\""
   ]
  },
  {
   "cell_type": "code",
   "execution_count": 19,
   "id": "a27e2473-ddf5-4883-bb50-6fe46914d3da",
   "metadata": {},
   "outputs": [
    {
     "data": {
      "text/html": [
       "<div>\n",
       "<style scoped>\n",
       "    .dataframe tbody tr th:only-of-type {\n",
       "        vertical-align: middle;\n",
       "    }\n",
       "\n",
       "    .dataframe tbody tr th {\n",
       "        vertical-align: top;\n",
       "    }\n",
       "\n",
       "    .dataframe thead th {\n",
       "        text-align: right;\n",
       "    }\n",
       "</style>\n",
       "<table border=\"1\" class=\"dataframe\">\n",
       "  <thead>\n",
       "    <tr style=\"text-align: right;\">\n",
       "      <th></th>\n",
       "      <th>FSYMBOL</th>\n",
       "    </tr>\n",
       "    <tr>\n",
       "      <th>混合型（子类）</th>\n",
       "      <th></th>\n",
       "    </tr>\n",
       "  </thead>\n",
       "  <tbody>\n",
       "    <tr>\n",
       "      <th>中权益仓位混合型基金</th>\n",
       "      <td>167</td>\n",
       "    </tr>\n",
       "    <tr>\n",
       "      <th>中高权益仓位混合型基金</th>\n",
       "      <td>240</td>\n",
       "    </tr>\n",
       "    <tr>\n",
       "      <th>低权益仓位混合型基金</th>\n",
       "      <td>625</td>\n",
       "    </tr>\n",
       "    <tr>\n",
       "      <th>港股通混合型基金</th>\n",
       "      <td>17</td>\n",
       "    </tr>\n",
       "    <tr>\n",
       "      <th>高权益仓位混合型基金</th>\n",
       "      <td>1661</td>\n",
       "    </tr>\n",
       "  </tbody>\n",
       "</table>\n",
       "</div>"
      ],
      "text/plain": [
       "             FSYMBOL\n",
       "混合型（子类）             \n",
       "中权益仓位混合型基金       167\n",
       "中高权益仓位混合型基金      240\n",
       "低权益仓位混合型基金       625\n",
       "港股通混合型基金          17\n",
       "高权益仓位混合型基金      1661"
      ]
     },
     "execution_count": 19,
     "metadata": {},
     "output_type": "execute_result"
    }
   ],
   "source": [
    "df.groupby(\"混合型（子类）\")[[\"FSYMBOL\"]].count()"
   ]
  },
  {
   "cell_type": "code",
   "execution_count": null,
   "id": "653f4b5e-1063-4b2a-b03d-b35146a82cfc",
   "metadata": {},
   "outputs": [],
   "source": []
  }
 ],
 "metadata": {
  "kernelspec": {
   "display_name": "Python [conda env:root] *",
   "language": "python",
   "name": "conda-root-py"
  },
  "language_info": {
   "codemirror_mode": {
    "name": "ipython",
    "version": 3
   },
   "file_extension": ".py",
   "mimetype": "text/x-python",
   "name": "python",
   "nbconvert_exporter": "python",
   "pygments_lexer": "ipython3",
   "version": "3.8.12"
  }
 },
 "nbformat": 4,
 "nbformat_minor": 5
}
