{
 "cells": [
  {
   "cell_type": "code",
   "execution_count": 8,
   "id": "51382765-24b4-4e5e-a118-077b276e0774",
   "metadata": {},
   "outputs": [],
   "source": [
    "import datetime as dt\n",
    "from utility import (\n",
    "    fd_alive_funds,\n",
    "    fd_basicinfo,\n",
    "    fd_typeclass,\n",
    "    nearest_report_date\n",
    ")\n",
    "import pandas as pd"
   ]
  },
  {
   "cell_type": "code",
   "execution_count": 9,
   "id": "47939edc-07d2-4c8e-b061-187806e124ea",
   "metadata": {},
   "outputs": [],
   "source": [
    "# 获取回溯的报告日\n",
    "\n",
    "today = dt.datetime.today().strftime(\"%Y%m%d\")"
   ]
  },
  {
   "cell_type": "code",
   "execution_count": 10,
   "id": "9a596482-dd98-49dc-b717-c17177f2cd64",
   "metadata": {},
   "outputs": [],
   "source": [
    "# 获取所有目标货币型基金（清算结束日期晚于当前日）\n",
    "\n",
    "security_ids = fd_alive_funds(today, 204)"
   ]
  },
  {
   "cell_type": "code",
   "execution_count": 11,
   "id": "7e1a0517-e3de-4ea7-ae3c-9c2292c63260",
   "metadata": {},
   "outputs": [],
   "source": [
    "basic_info = fd_basicinfo(security_ids)\n",
    "type_info = fd_typeclass(security_ids)"
   ]
  },
  {
   "cell_type": "code",
   "execution_count": 12,
   "id": "b0d0d48b-708b-447a-922b-500fbfb97600",
   "metadata": {},
   "outputs": [],
   "source": [
    "df = pd.merge(type_info[[\"SECURITYID\"]], basic_info, on=\"SECURITYID\")"
   ]
  },
  {
   "cell_type": "code",
   "execution_count": 13,
   "id": "5ccf2dc7-fea9-4d52-b15d-e8ff55fac3dc",
   "metadata": {},
   "outputs": [],
   "source": [
    "# 分类\n",
    "df.loc[(df[\"FDNATURE\"] == \"ETF\"), \"货币型（子类）\"] = \"场内货币型基金\"\n",
    "df.loc[(df[\"FDNATURE\"] != \"ETF\"), \"货币型（子类）\"] = \"场外货币型基金\""
   ]
  },
  {
   "cell_type": "code",
   "execution_count": 14,
   "id": "9d34507e-9efd-479a-8b25-a095de5a552c",
   "metadata": {},
   "outputs": [
    {
     "data": {
      "text/html": [
       "<div>\n",
       "<style scoped>\n",
       "    .dataframe tbody tr th:only-of-type {\n",
       "        vertical-align: middle;\n",
       "    }\n",
       "\n",
       "    .dataframe tbody tr th {\n",
       "        vertical-align: top;\n",
       "    }\n",
       "\n",
       "    .dataframe thead th {\n",
       "        text-align: right;\n",
       "    }\n",
       "</style>\n",
       "<table border=\"1\" class=\"dataframe\">\n",
       "  <thead>\n",
       "    <tr style=\"text-align: right;\">\n",
       "      <th></th>\n",
       "      <th>SECURITYID</th>\n",
       "      <th>FDNAME</th>\n",
       "      <th>SNAMECOMP</th>\n",
       "      <th>FSYMBOL</th>\n",
       "      <th>FDNATURE</th>\n",
       "      <th>INVESTSTYLE</th>\n",
       "    </tr>\n",
       "    <tr>\n",
       "      <th>货币型（子类）</th>\n",
       "      <th></th>\n",
       "      <th></th>\n",
       "      <th></th>\n",
       "      <th></th>\n",
       "      <th></th>\n",
       "      <th></th>\n",
       "    </tr>\n",
       "  </thead>\n",
       "  <tbody>\n",
       "    <tr>\n",
       "      <th>场内货币型基金</th>\n",
       "      <td>19</td>\n",
       "      <td>19</td>\n",
       "      <td>19</td>\n",
       "      <td>19</td>\n",
       "      <td>19</td>\n",
       "      <td>19</td>\n",
       "    </tr>\n",
       "    <tr>\n",
       "      <th>场外货币型基金</th>\n",
       "      <td>542</td>\n",
       "      <td>542</td>\n",
       "      <td>496</td>\n",
       "      <td>542</td>\n",
       "      <td>542</td>\n",
       "      <td>542</td>\n",
       "    </tr>\n",
       "  </tbody>\n",
       "</table>\n",
       "</div>"
      ],
      "text/plain": [
       "         SECURITYID  FDNAME  SNAMECOMP  FSYMBOL  FDNATURE  INVESTSTYLE\n",
       "货币型（子类）                                                               \n",
       "场内货币型基金          19      19         19       19        19           19\n",
       "场外货币型基金         542     542        496      542       542          542"
      ]
     },
     "execution_count": 14,
     "metadata": {},
     "output_type": "execute_result"
    }
   ],
   "source": [
    "df.groupby(\"货币型（子类）\").count()"
   ]
  },
  {
   "cell_type": "code",
   "execution_count": null,
   "id": "c46e44f3-62a7-4409-a276-e7493cbb98aa",
   "metadata": {},
   "outputs": [],
   "source": []
  },
  {
   "cell_type": "code",
   "execution_count": null,
   "id": "7e30b869-ddb2-4b75-9918-6931b7c00b05",
   "metadata": {},
   "outputs": [],
   "source": []
  }
 ],
 "metadata": {
  "kernelspec": {
   "display_name": "Python [conda env:root] *",
   "language": "python",
   "name": "conda-root-py"
  },
  "language_info": {
   "codemirror_mode": {
    "name": "ipython",
    "version": 3
   },
   "file_extension": ".py",
   "mimetype": "text/x-python",
   "name": "python",
   "nbconvert_exporter": "python",
   "pygments_lexer": "ipython3",
   "version": "3.8.12"
  }
 },
 "nbformat": 4,
 "nbformat_minor": 5
}
