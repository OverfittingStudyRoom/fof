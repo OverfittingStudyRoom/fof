{
 "cells": [
  {
   "cell_type": "code",
   "execution_count": 1,
   "id": "b81e5b9e-b8f5-4198-b98c-2e26f025875c",
   "metadata": {},
   "outputs": [],
   "source": [
    "import datetime as dt\n",
    "from utility import (\n",
    "    read_sql,\n",
    "    fd_basicinfo,\n",
    "    fd_typeclass,\n",
    "    nearest_report_date\n",
    ")\n",
    "import pandas as pd"
   ]
  },
  {
   "cell_type": "code",
   "execution_count": 2,
   "id": "8bf4331c-c1db-47b4-b72d-10d5ccb72657",
   "metadata": {},
   "outputs": [],
   "source": [
    "# 获取回溯的报告日\n",
    "\n",
    "today = dt.datetime.today().strftime(\"%Y%m%d\")"
   ]
  },
  {
   "cell_type": "code",
   "execution_count": 8,
   "id": "d228ec88-a55b-4451-8a69-1a0e490b9161",
   "metadata": {},
   "outputs": [],
   "source": [
    "# 获取所有目标QDII基金（清算结束日期晚于当前日）\n",
    "\n",
    "security_ids = read_sql(f\"\"\"\n",
    "select SECURITYID from TQ_FD_TYPECLASS \n",
    "WHERE\n",
    "    ISVALID = 1 AND\n",
    "    L1CODE = 6 AND\n",
    "    (ENDDATE>='{today}' or ENDDATE = '19000101') \n",
    "ORDER BY SECURITYID;\n",
    "\"\"\")[\"SECURITYID\"].unique().tolist()"
   ]
  },
  {
   "cell_type": "code",
   "execution_count": 9,
   "id": "7763ee34-dbba-4297-b2d8-16fc98be8a3b",
   "metadata": {},
   "outputs": [],
   "source": [
    "basic_info = fd_basicinfo(security_ids)\n",
    "type_info = fd_typeclass(security_ids)"
   ]
  },
  {
   "cell_type": "code",
   "execution_count": 10,
   "id": "e12d8f3b-0570-40db-9ec3-d6804b78c686",
   "metadata": {},
   "outputs": [],
   "source": [
    "df = pd.merge(type_info, basic_info, on=\"SECURITYID\")"
   ]
  },
  {
   "cell_type": "code",
   "execution_count": 14,
   "id": "b3f87023-d068-4014-975c-22db615c3273",
   "metadata": {},
   "outputs": [
    {
     "data": {
      "text/plain": [
       "array(['QDII股票型基金', 'QDII混合基金', 'QDII全球股票型基金', 'QDII债券基金', 'QDII指数股票型基金',\n",
       "       'QDII商品基金', 'QDII房地产信托基金', 'QDII分级子基金'], dtype=object)"
      ]
     },
     "execution_count": 14,
     "metadata": {},
     "output_type": "execute_result"
    }
   ],
   "source": [
    "df.L3NAME.unique()"
   ]
  },
  {
   "cell_type": "code",
   "execution_count": 18,
   "id": "0efd51eb-a03c-440b-b083-a36df52f9185",
   "metadata": {},
   "outputs": [],
   "source": [
    "# 分类\n",
    "df.loc[(df[\"L3NAME\"].isin([\"QDII股票型基金\", \"QDII全球股票型基金\", \"QDII指数股票型基金\"])), \"QDII型（子类）\"] = \"QDII股票型基金\"\n",
    "df.loc[df[\"L3NAME\"] == \"QDII债券基金\", \"QDII型（子类）\"] = \"QDII债券型基金\"\n",
    "df.loc[(df[\"L3NAME\"].isin([\"QDII商品基金\", \"QDII房地产信托基金\"])), \"QDII型（子类）\"] = \"QDII另类投资基金\"\n",
    "df.loc[(df[\"L3NAME\"].isin([\"QDII混合基金\", \"QDII分级子基金\"])), \"QDII型（子类）\"] = \"QDII混合型基金\""
   ]
  },
  {
   "cell_type": "code",
   "execution_count": 19,
   "id": "850b9707-8849-48b5-9b39-9111ab78ccc1",
   "metadata": {},
   "outputs": [
    {
     "data": {
      "text/html": [
       "<div>\n",
       "<style scoped>\n",
       "    .dataframe tbody tr th:only-of-type {\n",
       "        vertical-align: middle;\n",
       "    }\n",
       "\n",
       "    .dataframe tbody tr th {\n",
       "        vertical-align: top;\n",
       "    }\n",
       "\n",
       "    .dataframe thead th {\n",
       "        text-align: right;\n",
       "    }\n",
       "</style>\n",
       "<table border=\"1\" class=\"dataframe\">\n",
       "  <thead>\n",
       "    <tr style=\"text-align: right;\">\n",
       "      <th></th>\n",
       "      <th>SECURITYID</th>\n",
       "      <th>L1CODE</th>\n",
       "      <th>L1NAME</th>\n",
       "      <th>L2CODE</th>\n",
       "      <th>L2NAME</th>\n",
       "      <th>L3CODE</th>\n",
       "      <th>L3NAME</th>\n",
       "      <th>FDNAME</th>\n",
       "      <th>SNAMECOMP</th>\n",
       "      <th>FSYMBOL</th>\n",
       "      <th>FDNATURE</th>\n",
       "      <th>INVESTSTYLE</th>\n",
       "    </tr>\n",
       "    <tr>\n",
       "      <th>QDII型（子类）</th>\n",
       "      <th></th>\n",
       "      <th></th>\n",
       "      <th></th>\n",
       "      <th></th>\n",
       "      <th></th>\n",
       "      <th></th>\n",
       "      <th></th>\n",
       "      <th></th>\n",
       "      <th></th>\n",
       "      <th></th>\n",
       "      <th></th>\n",
       "      <th></th>\n",
       "    </tr>\n",
       "  </thead>\n",
       "  <tbody>\n",
       "    <tr>\n",
       "      <th>QDII债券型基金</th>\n",
       "      <td>39</td>\n",
       "      <td>39</td>\n",
       "      <td>39</td>\n",
       "      <td>39</td>\n",
       "      <td>39</td>\n",
       "      <td>39</td>\n",
       "      <td>39</td>\n",
       "      <td>39</td>\n",
       "      <td>38</td>\n",
       "      <td>39</td>\n",
       "      <td>39</td>\n",
       "      <td>39</td>\n",
       "    </tr>\n",
       "    <tr>\n",
       "      <th>QDII另类投资基金</th>\n",
       "      <td>19</td>\n",
       "      <td>19</td>\n",
       "      <td>19</td>\n",
       "      <td>19</td>\n",
       "      <td>19</td>\n",
       "      <td>19</td>\n",
       "      <td>19</td>\n",
       "      <td>19</td>\n",
       "      <td>9</td>\n",
       "      <td>19</td>\n",
       "      <td>19</td>\n",
       "      <td>19</td>\n",
       "    </tr>\n",
       "    <tr>\n",
       "      <th>QDII混合型基金</th>\n",
       "      <td>31</td>\n",
       "      <td>31</td>\n",
       "      <td>31</td>\n",
       "      <td>31</td>\n",
       "      <td>31</td>\n",
       "      <td>31</td>\n",
       "      <td>31</td>\n",
       "      <td>31</td>\n",
       "      <td>13</td>\n",
       "      <td>31</td>\n",
       "      <td>31</td>\n",
       "      <td>31</td>\n",
       "    </tr>\n",
       "    <tr>\n",
       "      <th>QDII股票型基金</th>\n",
       "      <td>87</td>\n",
       "      <td>87</td>\n",
       "      <td>87</td>\n",
       "      <td>87</td>\n",
       "      <td>87</td>\n",
       "      <td>87</td>\n",
       "      <td>87</td>\n",
       "      <td>87</td>\n",
       "      <td>55</td>\n",
       "      <td>87</td>\n",
       "      <td>87</td>\n",
       "      <td>87</td>\n",
       "    </tr>\n",
       "  </tbody>\n",
       "</table>\n",
       "</div>"
      ],
      "text/plain": [
       "            SECURITYID  L1CODE  L1NAME  L2CODE  L2NAME  L3CODE  L3NAME  \\\n",
       "QDII型（子类）                                                                \n",
       "QDII债券型基金           39      39      39      39      39      39      39   \n",
       "QDII另类投资基金          19      19      19      19      19      19      19   \n",
       "QDII混合型基金           31      31      31      31      31      31      31   \n",
       "QDII股票型基金           87      87      87      87      87      87      87   \n",
       "\n",
       "            FDNAME  SNAMECOMP  FSYMBOL  FDNATURE  INVESTSTYLE  \n",
       "QDII型（子类）                                                      \n",
       "QDII债券型基金       39         38       39        39           39  \n",
       "QDII另类投资基金      19          9       19        19           19  \n",
       "QDII混合型基金       31         13       31        31           31  \n",
       "QDII股票型基金       87         55       87        87           87  "
      ]
     },
     "execution_count": 19,
     "metadata": {},
     "output_type": "execute_result"
    }
   ],
   "source": [
    "df.groupby(\"QDII型（子类）\").count()"
   ]
  },
  {
   "cell_type": "code",
   "execution_count": null,
   "id": "0f3aec26-468c-4b17-b9c5-75119afcf005",
   "metadata": {},
   "outputs": [],
   "source": []
  }
 ],
 "metadata": {
  "kernelspec": {
   "display_name": "Python [conda env:root] *",
   "language": "python",
   "name": "conda-root-py"
  },
  "language_info": {
   "codemirror_mode": {
    "name": "ipython",
    "version": 3
   },
   "file_extension": ".py",
   "mimetype": "text/x-python",
   "name": "python",
   "nbconvert_exporter": "python",
   "pygments_lexer": "ipython3",
   "version": "3.8.12"
  }
 },
 "nbformat": 4,
 "nbformat_minor": 5
}
